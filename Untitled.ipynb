{
 "cells": [
  {
   "cell_type": "markdown",
   "metadata": {
    "editable": true
   },
   "source": [
    "## Project Template  \n",
    "\n",
    "### Modeling your NoSQL database or Apache Cassandra database\n",
    "- Design tables to answer the queries outlined in the project template\n",
    "- Write Apache Cassandra CREATE KEYSPACE and SET KEYSPACE statements\n",
    "- Develop your CREATE statement for each of the tables to address each question\n",
    "- Load the data with INSERT statement for each of the tables\n",
    "- Include IF NOT EXISTS clauses in your CREATE statements to create tables only if the tables do not already exist. We recommend you also include DROP TABLE statement for each table, this way you can run drop and create tables whenever you want to reset your database and test your ETL pipeline\n",
    "- Test by running the proper select statements with the correct WHERE clause\n",
    "\n",
    "## Build ETL Pipeline\n",
    "Implement the logic in section Part I of the notebook template to iterate through each event file in event_data to process and create a new CSV file in Python\n",
    "Make necessary edits to Part II of the notebook template to include Apache Cassandra CREATE and INSERT statements to load processed records into relevant tables in your data model\n",
    "Test by running SELECT statements after running the queries on your database"
   ]
  },
  {
   "cell_type": "code",
   "execution_count": null,
   "metadata": {
    "editable": true
   },
   "outputs": [],
   "source": []
  }
 ],
 "metadata": {
  "kernelspec": {
   "display_name": "Python 3",
   "language": "python",
   "name": "python3"
  },
  "language_info": {
   "codemirror_mode": {
    "name": "ipython",
    "version": 3
   },
   "file_extension": ".py",
   "mimetype": "text/x-python",
   "name": "python",
   "nbconvert_exporter": "python",
   "pygments_lexer": "ipython3",
   "version": "3.6.3"
  }
 },
 "nbformat": 4,
 "nbformat_minor": 4
}
